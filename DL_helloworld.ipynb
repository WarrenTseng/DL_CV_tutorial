{
 "cells": [
  {
   "cell_type": "markdown",
   "metadata": {},
   "source": [
    "# We will build a simple convolution network by *Tensorflow 2.0* to classify the handwritten digits dataset: MNIST\n",
    "\n",
    "Tensorflow: https://www.tensorflow.org/\n",
    "\n",
    "- **Requirements**\n",
    "    - python==3.6\n",
    "    - tensorflow==2.0\n",
    "    - numpy==1.17\n",
    "    - matplotlib==3.1.2"
   ]
  },
  {
   "cell_type": "code",
   "execution_count": 1,
   "metadata": {},
   "outputs": [],
   "source": [
    "import matplotlib.pyplot as plt\n",
    "import numpy as np\n",
    "import tensorflow as tf"
   ]
  },
  {
   "cell_type": "markdown",
   "metadata": {},
   "source": [
    "## Step 1: prepare our dataset"
   ]
  },
  {
   "cell_type": "markdown",
   "metadata": {},
   "source": [
    "- First, load the MNIST dataset"
   ]
  },
  {
   "cell_type": "code",
   "execution_count": 2,
   "metadata": {},
   "outputs": [],
   "source": [
    "(x_train, y_train), (x_test, y_test) = tf.keras.datasets.mnist.load_data()\n",
    "x_train, x_test = x_train[..., None], x_test[..., None]"
   ]
  },
  {
   "cell_type": "code",
   "execution_count": 3,
   "metadata": {},
   "outputs": [
    {
     "data": {
      "text/plain": [
       "((60000, 28, 28, 1), (10000, 28, 28, 1))"
      ]
     },
     "execution_count": 3,
     "metadata": {},
     "output_type": "execute_result"
    }
   ],
   "source": [
    "# We can find that we have 60000 pictures of handwritten digits in the training set, and 10000 in the testing set.\n",
    "x_train.shape, x_test.shape"
   ]
  },
  {
   "cell_type": "markdown",
   "metadata": {},
   "source": [
    "- Preview of MNIST"
   ]
  },
  {
   "cell_type": "code",
   "execution_count": 4,
   "metadata": {},
   "outputs": [
    {
     "data": {
      "image/png": "[encoded data removed]",
      "text/plain": [
       "<Figure size 1080x216 with 5 Axes>"
      ]
     },
     "metadata": {
      "needs_background": "light"
     },
     "output_type": "display_data"
    }
   ],
   "source": [
    "# the usage of matplotlib.pyplot module is like MATLAB\n",
    "plt.figure(figsize=(15, 3))\n",
    "for i in range(5):\n",
    "    plt.subplot(1, 5, i+1)\n",
    "    plt.imshow(x_train[i, ..., 0], cmap='gray')\n",
    "    plt.axis('off')\n",
    "    plt.title('Digits: '+str(y_train[i]))\n",
    "plt.show()"
   ]
  },
  {
   "cell_type": "markdown",
   "metadata": {},
   "source": [
    "- Apply one-hot encoding to the labels <br>\n",
    "one-hot encoding: https://zhuanlan.zhihu.com/p/37471802"
   ]
  },
  {
   "cell_type": "code",
   "execution_count": 5,
   "metadata": {},
   "outputs": [
    {
     "data": {
      "text/plain": [
       "((60000,), array([5, 0, 4, 1, 9, 2, 1, 3, 1, 4], dtype=uint8))"
      ]
     },
     "execution_count": 5,
     "metadata": {},
     "output_type": "execute_result"
    }
   ],
   "source": [
    "# before one-hot encoding\n",
    "y_train.shape, y_train[:10]"
   ]
  },
  {
   "cell_type": "code",
   "execution_count": 6,
   "metadata": {},
   "outputs": [
    {
     "data": {
      "text/plain": [
       "((60000, 10), array([[0., 0., 0., 0., 0., 1., 0., 0., 0., 0.],\n",
       "        [1., 0., 0., 0., 0., 0., 0., 0., 0., 0.],\n",
       "        [0., 0., 0., 0., 1., 0., 0., 0., 0., 0.],\n",
       "        [0., 1., 0., 0., 0., 0., 0., 0., 0., 0.],\n",
       "        [0., 0., 0., 0., 0., 0., 0., 0., 0., 1.],\n",
       "        [0., 0., 1., 0., 0., 0., 0., 0., 0., 0.],\n",
       "        [0., 1., 0., 0., 0., 0., 0., 0., 0., 0.],\n",
       "        [0., 0., 0., 1., 0., 0., 0., 0., 0., 0.],\n",
       "        [0., 1., 0., 0., 0., 0., 0., 0., 0., 0.],\n",
       "        [0., 0., 0., 0., 1., 0., 0., 0., 0., 0.]], dtype=float32))"
      ]
     },
     "execution_count": 6,
     "metadata": {},
     "output_type": "execute_result"
    }
   ],
   "source": [
    "# after one-hot encoding\n",
    "y_train = tf.keras.utils.to_categorical(y_train)\n",
    "y_test = tf.keras.utils.to_categorical(y_test)\n",
    "y_train.shape, y_train[:10]"
   ]
  },
  {
   "cell_type": "markdown",
   "metadata": {},
   "source": [
    "## Step2: build the convolutional neural network\n",
    "\n",
    "- The overall architecture: <br><br>\n",
    "<img src=\"./imgs/CNN_ALL_mnist.png\" width=\"60%\" height=\"60%\">"
   ]
  },
  {
   "cell_type": "markdown",
   "metadata": {},
   "source": [
    "- Input layer: <br><br>\n",
    "<img src=\"./imgs/CNN_xy_mnist.png\" width=\"60%\" height=\"60%\">"
   ]
  },
  {
   "cell_type": "code",
   "execution_count": 7,
   "metadata": {},
   "outputs": [],
   "source": [
    "inputs = tf.keras.layers.Input(shape=(28, 28, 1))"
   ]
  },
  {
   "cell_type": "markdown",
   "metadata": {},
   "source": [
    "- Conv layers: <br><br>\n",
    "<img src=\"./imgs/CNN_conv12conv2_mnist.png\" width=\"60%\" height=\"60%\">"
   ]
  },
  {
   "cell_type": "code",
   "execution_count": 8,
   "metadata": {},
   "outputs": [],
   "source": [
    "conv1 = tf.keras.layers.Conv2D(\n",
    "    filters=16, \n",
    "    kernel_size=(3, 3),\n",
    "    padding='same',\n",
    "    activation='relu'\n",
    ")\n",
    "norm1 = tf.keras.layers.BatchNormalization()\n",
    "pool1 = tf.keras.layers.MaxPool2D()"
   ]
  },
  {
   "cell_type": "code",
   "execution_count": 9,
   "metadata": {},
   "outputs": [],
   "source": [
    "conv2 = tf.keras.layers.Conv2D(\n",
    "    filters=32, \n",
    "    kernel_size=(3, 3),\n",
    "    padding='same',\n",
    "    activation='relu'\n",
    ")\n",
    "norm2 = tf.keras.layers.BatchNormalization()\n",
    "pool2 = tf.keras.layers.MaxPool2D()"
   ]
  },
  {
   "cell_type": "markdown",
   "metadata": {},
   "source": [
    "- Flatten layer: <br><br>\n",
    "<img src=\"./imgs/CNN_conv22flatten_mnist.png\" width=\"60%\" height=\"60%\">"
   ]
  },
  {
   "cell_type": "code",
   "execution_count": 10,
   "metadata": {},
   "outputs": [],
   "source": [
    "flat3 = tf.keras.layers.Flatten()"
   ]
  },
  {
   "cell_type": "markdown",
   "metadata": {},
   "source": [
    "- Dense (fully-connected) layer and output layer: <br><br>\n",
    "<img src=\"./imgs/CNN_hidden2output_mnist.png\" width=\"60%\" height=\"60%\">"
   ]
  },
  {
   "cell_type": "code",
   "execution_count": 11,
   "metadata": {},
   "outputs": [],
   "source": [
    "dense4 = tf.keras.layers.Dense(\n",
    "    units=64,\n",
    "    activation='relu'\n",
    ")\n",
    "drop4 = tf.keras.layers.Dropout(rate=0.5)"
   ]
  },
  {
   "cell_type": "code",
   "execution_count": 12,
   "metadata": {},
   "outputs": [],
   "source": [
    "outputs = tf.keras.layers.Dense(\n",
    "    units=10,\n",
    "    activation='softmax'\n",
    ")"
   ]
  },
  {
   "cell_type": "markdown",
   "metadata": {},
   "source": [
    "### Combine the layers we built before together"
   ]
  },
  {
   "cell_type": "code",
   "execution_count": 13,
   "metadata": {},
   "outputs": [],
   "source": [
    "layers = [\n",
    "    inputs,\n",
    "    conv1,\n",
    "    norm1,\n",
    "    pool1,\n",
    "    conv2,\n",
    "    norm2,\n",
    "    pool2,\n",
    "    flat3,\n",
    "    dense4,\n",
    "    drop4,\n",
    "    outputs\n",
    "]\n",
    "model = tf.keras.models.Sequential(layers)"
   ]
  },
  {
   "cell_type": "markdown",
   "metadata": {},
   "source": [
    "- Choose our loss function and optimizer"
   ]
  },
  {
   "cell_type": "code",
   "execution_count": 14,
   "metadata": {},
   "outputs": [],
   "source": [
    "loss = tf.keras.losses.CategoricalCrossentropy()\n",
    "optimizer = tf.keras.optimizers.SGD(\n",
    "    learning_rate=1e-2,\n",
    "    momentum=.5\n",
    ")\n",
    "model.compile(\n",
    "    optimizer=optimizer,\n",
    "    loss=loss,\n",
    "    metrics=['acc']\n",
    ")"
   ]
  },
  {
   "cell_type": "code",
   "execution_count": 15,
   "metadata": {},
   "outputs": [
    {
     "name": "stdout",
     "output_type": "stream",
     "text": [
      "Model: \"sequential\"\n",
      "_________________________________________________________________\n",
      "Layer (type)                 Output Shape              Param #   \n",
      "=================================================================\n",
      "conv2d (Conv2D)              (None, 28, 28, 16)        160       \n",
      "_________________________________________________________________\n",
      "batch_normalization (BatchNo (None, 28, 28, 16)        64        \n",
      "_________________________________________________________________\n",
      "max_pooling2d (MaxPooling2D) (None, 14, 14, 16)        0         \n",
      "_________________________________________________________________\n",
      "conv2d_1 (Conv2D)            (None, 14, 14, 32)        4640      \n",
      "_________________________________________________________________\n",
      "batch_normalization_1 (Batch (None, 14, 14, 32)        128       \n",
      "_________________________________________________________________\n",
      "max_pooling2d_1 (MaxPooling2 (None, 7, 7, 32)          0         \n",
      "_________________________________________________________________\n",
      "flatten (Flatten)            (None, 1568)              0         \n",
      "_________________________________________________________________\n",
      "dense (Dense)                (None, 64)                100416    \n",
      "_________________________________________________________________\n",
      "dropout (Dropout)            (None, 64)                0         \n",
      "_________________________________________________________________\n",
      "dense_1 (Dense)              (None, 10)                650       \n",
      "=================================================================\n",
      "Total params: 106,058\n",
      "Trainable params: 105,962\n",
      "Non-trainable params: 96\n",
      "_________________________________________________________________\n"
     ]
    }
   ],
   "source": [
    "model.summary()"
   ]
  },
  {
   "cell_type": "markdown",
   "metadata": {},
   "source": [
    "## Step 3: training"
   ]
  },
  {
   "cell_type": "code",
   "execution_count": 16,
   "metadata": {
    "scrolled": true
   },
   "outputs": [
    {
     "name": "stdout",
     "output_type": "stream",
     "text": [
      "Train on 60000 samples, validate on 10000 samples\n",
      "Epoch 1/20\n",
      "60000/60000 [==============================] - 6s 95us/sample - loss: 0.4757 - acc: 0.8515 - val_loss: 0.0998 - val_acc: 0.9695\n",
      "Epoch 2/20\n",
      "60000/60000 [==============================] - 3s 42us/sample - loss: 0.2045 - acc: 0.9376 - val_loss: 0.0653 - val_acc: 0.9779\n",
      "Epoch 3/20\n",
      "60000/60000 [==============================] - 2s 42us/sample - loss: 0.1558 - acc: 0.9535 - val_loss: 0.0568 - val_acc: 0.9806\n",
      "Epoch 4/20\n",
      "60000/60000 [==============================] - 2s 41us/sample - loss: 0.1301 - acc: 0.9611 - val_loss: 0.0466 - val_acc: 0.9845\n",
      "Epoch 5/20\n",
      "60000/60000 [==============================] - 2s 41us/sample - loss: 0.1127 - acc: 0.9663 - val_loss: 0.0467 - val_acc: 0.9856\n",
      "Epoch 6/20\n",
      "60000/60000 [==============================] - 3s 42us/sample - loss: 0.1003 - acc: 0.9707 - val_loss: 0.0435 - val_acc: 0.9861\n",
      "Epoch 7/20\n",
      "60000/60000 [==============================] - 2s 41us/sample - loss: 0.0892 - acc: 0.9740 - val_loss: 0.0375 - val_acc: 0.9878\n",
      "Epoch 8/20\n",
      "60000/60000 [==============================] - 2s 41us/sample - loss: 0.0829 - acc: 0.9754 - val_loss: 0.0351 - val_acc: 0.9889\n",
      "Epoch 9/20\n",
      "60000/60000 [==============================] - 3s 42us/sample - loss: 0.0738 - acc: 0.9783 - val_loss: 0.0385 - val_acc: 0.9878\n",
      "Epoch 10/20\n",
      "60000/60000 [==============================] - 2s 41us/sample - loss: 0.0716 - acc: 0.9781 - val_loss: 0.0341 - val_acc: 0.9896\n",
      "Epoch 11/20\n",
      "60000/60000 [==============================] - 2s 41us/sample - loss: 0.0674 - acc: 0.9795 - val_loss: 0.0370 - val_acc: 0.9880\n",
      "Epoch 12/20\n",
      "60000/60000 [==============================] - 3s 42us/sample - loss: 0.0644 - acc: 0.9808 - val_loss: 0.0354 - val_acc: 0.9886\n",
      "Epoch 13/20\n",
      "60000/60000 [==============================] - 2s 42us/sample - loss: 0.0595 - acc: 0.9819 - val_loss: 0.0326 - val_acc: 0.9889\n",
      "Epoch 14/20\n",
      "60000/60000 [==============================] - 2s 41us/sample - loss: 0.0572 - acc: 0.9824 - val_loss: 0.0337 - val_acc: 0.9894\n",
      "Epoch 15/20\n",
      "60000/60000 [==============================] - 2s 41us/sample - loss: 0.0550 - acc: 0.9835 - val_loss: 0.0332 - val_acc: 0.9898\n",
      "Epoch 16/20\n",
      "60000/60000 [==============================] - 2s 41us/sample - loss: 0.0509 - acc: 0.9846 - val_loss: 0.0327 - val_acc: 0.9895\n",
      "Epoch 17/20\n",
      "60000/60000 [==============================] - 2s 41us/sample - loss: 0.0486 - acc: 0.9852 - val_loss: 0.0318 - val_acc: 0.9898\n",
      "Epoch 18/20\n",
      "60000/60000 [==============================] - 2s 41us/sample - loss: 0.0487 - acc: 0.9848 - val_loss: 0.0322 - val_acc: 0.9906\n",
      "Epoch 19/20\n",
      "60000/60000 [==============================] - 2s 40us/sample - loss: 0.0469 - acc: 0.9864 - val_loss: 0.0301 - val_acc: 0.9898\n",
      "Epoch 20/20\n",
      "60000/60000 [==============================] - 2s 41us/sample - loss: 0.0446 - acc: 0.9861 - val_loss: 0.0349 - val_acc: 0.9887\n"
     ]
    }
   ],
   "source": [
    "# we take the test set as validation set here\n",
    "h = model.fit(\n",
    "    x=x_train,\n",
    "    y=y_train,\n",
    "    batch_size=128,\n",
    "    epochs=20,\n",
    "    validation_data=(x_test, y_test),\n",
    "    verbose=1\n",
    ")"
   ]
  },
  {
   "cell_type": "markdown",
   "metadata": {},
   "source": [
    "## Excercise: CIFAR 10 dataset"
   ]
  },
  {
   "cell_type": "code",
   "execution_count": 19,
   "metadata": {},
   "outputs": [
    {
     "name": "stdout",
     "output_type": "stream",
     "text": [
      "Downloading data from https://www.cs.toronto.edu/~kriz/cifar-10-python.tar.gz\n",
      "170500096/170498071 [==============================] - 4s 0us/step\n"
     ]
    }
   ],
   "source": [
    "(x_train, y_train), (x_test, y_test) = tf.keras.datasets.cifar10.load_data()"
   ]
  },
  {
   "cell_type": "code",
   "execution_count": null,
   "metadata": {},
   "outputs": [],
   "source": []
  }
 ],
 "metadata": {
  "kernelspec": {
   "display_name": "Python 3",
   "language": "python",
   "name": "python3"
  },
  "language_info": {
   "codemirror_mode": {
    "name": "ipython",
    "version": 3
   },
   "file_extension": ".py",
   "mimetype": "text/x-python",
   "name": "python",
   "nbconvert_exporter": "python",
   "pygments_lexer": "ipython3",
   "version": "3.6.8"
  }
 },
 "nbformat": 4,
 "nbformat_minor": 4
}
